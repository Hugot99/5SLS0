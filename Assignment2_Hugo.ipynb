{
 "cells": [
  {
   "cell_type": "code",
   "execution_count": 1,
   "id": "624742c5",
   "metadata": {},
   "outputs": [],
   "source": [
    "import pandas as pd\n",
    "import matplotlib.pyplot as plt\n",
    "import numpy as np"
   ]
  },
  {
   "cell_type": "code",
   "execution_count": 2,
   "id": "ecf491b3",
   "metadata": {},
   "outputs": [
    {
     "data": {
      "text/plain": [
       "[<matplotlib.lines.Line2D at 0x19e7e896b08>]"
      ]
     },
     "execution_count": 2,
     "metadata": {},
     "output_type": "execute_result"
    },
    {
     "data": {
      "image/png": "[encoded data removed]",
      "text/plain": [
       "<Figure size 432x288 with 1 Axes>"
      ]
     },
     "metadata": {
      "needs_background": "light"
     },
     "output_type": "display_data"
    }
   ],
   "source": [
    "# Gradient descent method\n",
    "df = pd.read_csv('assignment1_data.csv',header = None)\n",
    "df.head()\n",
    "x = df[0]\n",
    "xT = x.T\n",
    "y = df[1]\n",
    "N = len(df)\n",
    "alpha = 0.01\n",
    "w = np.matrix([[0],[0],[0]])\n",
    "R_x = np.matrix([[5, -1, -2],[-1, 5, -1],[-2, -1, 5]])\n",
    "r_yx = np.matrix([[1],[5.3],[-3.9]])\n",
    "\n",
    "W = np.zeros((3,N))\n",
    "for i in range(1,N):\n",
    "    w = w+2*alpha*(r_yx-R_x*w)\n",
    "    W[:,i] = w.A1\n",
    "plt.plot(W[0,1:100])\n",
    "plt.plot(W[1,1:100])\n",
    "plt.plot(W[2,1:100])"
   ]
  },
  {
   "cell_type": "code",
   "execution_count": 3,
   "id": "a0f4b832",
   "metadata": {},
   "outputs": [
    {
     "data": {
      "text/plain": [
       "[<matplotlib.lines.Line2D at 0x19e7e9aef88>]"
      ]
     },
     "execution_count": 3,
     "metadata": {},
     "output_type": "execute_result"
    },
    {
     "data": {
      "image/png": "[encoded data removed]",
      "text/plain": [
       "<Figure size 432x288 with 1 Axes>"
      ]
     },
     "metadata": {
      "needs_background": "light"
     },
     "output_type": "display_data"
    }
   ],
   "source": [
    "# Newton method\n",
    "N = len(df)\n",
    "alpha = 0.01\n",
    "# alpha = 0.9\n",
    "w = np.matrix([[0],[0],[0]])\n",
    "R_x = np.matrix([[5, -1, -2],[-1, 5, -1],[-2, -1, 5]])\n",
    "r_yx = np.matrix([[1],[5.3],[-3.9]])\n",
    "\n",
    "W1 = np.zeros((3,N))\n",
    "for i in range(1,N):\n",
    "    w = w+2*alpha*R_x**-1*(r_yx-R_x*w)\n",
    "    W1[:,i] = w.A1\n",
    "plt.plot(W1[0,1:30])\n",
    "plt.plot(W1[1,1:30])\n",
    "plt.plot(W1[2,1:30])"
   ]
  },
  {
   "cell_type": "code",
   "execution_count": 4,
   "id": "300675ca",
   "metadata": {},
   "outputs": [
    {
     "name": "stderr",
     "output_type": "stream",
     "text": [
      "c:\\users\\20174295\\5lsl0\\venv\\lib\\site-packages\\numpy\\matrixlib\\defmatrix.py:145: VisibleDeprecationWarning: Creating an ndarray from ragged nested sequences (which is a list-or-tuple of lists-or-tuples-or ndarrays with different lengths or shapes) is deprecated. If you meant to do this, you must specify 'dtype=object' when creating the ndarray\n",
      "  arr = N.array(data, dtype=dtype, copy=copy)\n"
     ]
    },
    {
     "ename": "ValueError",
     "evalue": "setting an array element with a sequence.",
     "output_type": "error",
     "traceback": [
      "\u001b[1;31m---------------------------------------------------------------------------\u001b[0m",
      "\u001b[1;31mTypeError\u001b[0m                                 Traceback (most recent call last)",
      "\u001b[1;31mTypeError\u001b[0m: only size-1 arrays can be converted to Python scalars",
      "\nThe above exception was the direct cause of the following exception:\n",
      "\u001b[1;31mValueError\u001b[0m                                Traceback (most recent call last)",
      "\u001b[1;32m<ipython-input-4-e00589d5e925>\u001b[0m in \u001b[0;36m<module>\u001b[1;34m\u001b[0m\n\u001b[0;32m      6\u001b[0m \u001b[1;32mfor\u001b[0m \u001b[0mi\u001b[0m \u001b[1;32min\u001b[0m \u001b[0mrange\u001b[0m\u001b[1;33m(\u001b[0m\u001b[1;36m1\u001b[0m\u001b[1;33m,\u001b[0m\u001b[0mN\u001b[0m\u001b[1;33m)\u001b[0m\u001b[1;33m:\u001b[0m\u001b[1;33m\u001b[0m\u001b[1;33m\u001b[0m\u001b[0m\n\u001b[0;32m      7\u001b[0m     \u001b[0mj\u001b[0m \u001b[1;33m=\u001b[0m \u001b[0my\u001b[0m\u001b[1;33m[\u001b[0m\u001b[0mi\u001b[0m\u001b[1;33m]\u001b[0m\u001b[1;33m**\u001b[0m\u001b[1;36m2\u001b[0m \u001b[1;33m+\u001b[0m \u001b[1;33m-\u001b[0m\u001b[0mw\u001b[0m\u001b[1;33m.\u001b[0m\u001b[0mT\u001b[0m\u001b[1;33m*\u001b[0m\u001b[0mr_yx\u001b[0m \u001b[1;33m-\u001b[0m \u001b[0mr_yx\u001b[0m\u001b[1;33m.\u001b[0m\u001b[0mT\u001b[0m\u001b[1;33m*\u001b[0m\u001b[0mw\u001b[0m \u001b[1;33m+\u001b[0m \u001b[0mw\u001b[0m\u001b[1;33m.\u001b[0m\u001b[0mT\u001b[0m\u001b[1;33m*\u001b[0m\u001b[0mR_x\u001b[0m\u001b[1;33m*\u001b[0m\u001b[0mw\u001b[0m\u001b[1;33m\u001b[0m\u001b[1;33m\u001b[0m\u001b[0m\n\u001b[1;32m----> 8\u001b[1;33m     \u001b[0mJ\u001b[0m\u001b[1;33m[\u001b[0m\u001b[1;33m:\u001b[0m\u001b[1;33m,\u001b[0m\u001b[0mi\u001b[0m\u001b[1;33m]\u001b[0m\u001b[1;33m=\u001b[0m \u001b[0mj\u001b[0m\u001b[1;33m.\u001b[0m\u001b[0mA1\u001b[0m\u001b[1;33m\u001b[0m\u001b[1;33m\u001b[0m\u001b[0m\n\u001b[0m\u001b[0;32m      9\u001b[0m \u001b[0mprint\u001b[0m\u001b[1;33m(\u001b[0m\u001b[0mJ\u001b[0m\u001b[1;33m)\u001b[0m\u001b[1;33m\u001b[0m\u001b[1;33m\u001b[0m\u001b[0m\n\u001b[0;32m     10\u001b[0m \u001b[1;33m\u001b[0m\u001b[0m\n",
      "\u001b[1;31mValueError\u001b[0m: setting an array element with a sequence."
     ]
    }
   ],
   "source": [
    "# J = np.zeros((1,N))\n",
    "# X = np.arange(-2, 2, 0.1)\n",
    "# Y = np.arange(-2, 2, 0.1)\n",
    "# Z = np.ones((1,len(X)))*0.5\n",
    "# w = np.matrix([[X],[Y],[Z]])\n",
    "# for i in range(1,N):\n",
    "#     j = y[i]**2 + -w.T*r_yx - r_yx.T*w + w.T*R_x*w\n",
    "#     J[:,i]= j.A1\n",
    "# print(J)\n",
    "\n",
    "\n",
    "# J = -w.T*r_yx - r_yx.T*w + w.T*R_x*w\n",
    "# print(J)\n",
    "#plt.contour(X, Y, J)"
   ]
  },
  {
   "cell_type": "code",
   "execution_count": 6,
   "id": "0429cf31",
   "metadata": {},
   "outputs": [],
   "source": [
    "\n",
    "# # plt.plot(W)\n",
    "# X = W[0,1:10]\n",
    "# Y = W[1,1:10]\n",
    "# Z = 5*np.ones((1,10))\n",
    "# print(y[1])\n",
    "\n",
    "\n",
    "# print(J)\n",
    "# Z = np.meshgrid(X,Y)\n",
    "# plt.contour(Z)\n",
    "# print(Z)\n",
    "# plt.plot(gradZ)\n",
    "# Z = 0.5\n",
    "# Z = np.meshgrid(X,Y)\n",
    "# plt.contour(1,1,gradZ)\n",
    "# # plt.plot(W[1,1:100])\n",
    "# # plt.plot(W[2,1:100])\n",
    "# plt.title('Converge w')\n",
    "# plt.xlabel('N')\n",
    "\n",
    "# plt.plot"
   ]
  },
  {
   "cell_type": "code",
   "execution_count": 12,
   "id": "9d433909",
   "metadata": {},
   "outputs": [
    {
     "name": "stdout",
     "output_type": "stream",
     "text": [
      "[[ 0.20813226]\n",
      " [ 0.99561   ]\n",
      " [-0.50858218]]\n"
     ]
    }
   ],
   "source": [
    "# least mean squares\n",
    "x = df[0]\n",
    "xT = x.T\n",
    "y = df[1]\n",
    "N = len(df)\n",
    "\n",
    "alpha = 0.0001\n",
    "w = np.matrix([[0],[0],[0]])\n",
    "W2 = np.zeros((3,N))\n",
    "for i in range(2,N):\n",
    "    x_bar = np.matrix([[x[i]],[x[i-1]],[x[i-2]]])\n",
    "    y_pred = w.T* x_bar\n",
    "    e = y[i] - y_pred\n",
    "    w = w+2*alpha*x_bar*e\n",
    "    W2[:,i] = w.A1 \n",
    "\n",
    "print(w)\n"
   ]
  },
  {
   "cell_type": "code",
   "execution_count": 10,
   "id": "12ab8bfa",
   "metadata": {},
   "outputs": [
    {
     "name": "stdout",
     "output_type": "stream",
     "text": [
      "[[ 0.19783377]\n",
      " [ 1.13581298]\n",
      " [-0.26524561]]\n"
     ]
    }
   ],
   "source": [
    "# Normalized least mean squares\n",
    "x = df[0]\n",
    "xT = x.T\n",
    "y = df[1]\n",
    "N = len(df)\n",
    "\n",
    "alpha = 0.1\n",
    "w = np.matrix([[0],[0],[0]])\n",
    "W2 = np.zeros((3,N))\n",
    "beta = 0.2\n",
    "sigma2 = 0.01\n",
    "for i in range(2,N):\n",
    "    x_bar = np.matrix([[x[i]],[x[i-1]],[x[i-2]]])\n",
    "    y_pred = w.T*x_bar\n",
    "    e = y[i] - y_pred\n",
    "    sigma2 = beta*sigma2+(1-beta)*(x_bar.T*x_bar)/len(w)\n",
    "    w = w+2*alpha/sigma2[0,0]*x_bar*e\n",
    "    W2[:,i] = w.A1 \n",
    "\n",
    "print(w)"
   ]
  },
  {
   "cell_type": "code",
   "execution_count": 61,
   "id": "198b7536",
   "metadata": {},
   "outputs": [
    {
     "name": "stdout",
     "output_type": "stream",
     "text": [
      "[[ 0.2032406 ]\n",
      " [ 0.99426938]\n",
      " [-0.50063039]]\n"
     ]
    }
   ],
   "source": [
    "# Recursive Least Squares\n",
    "x = df[0]\n",
    "xT = x.T\n",
    "y = df[1]\n",
    "N = len(df)\n",
    "\n",
    "alpha = 0.001\n",
    "gamma = 1-10**(-4);\n",
    "delta = 100\n",
    "r_yx = np.matrix([[0],[0],[0]])\n",
    "w = np.matrix([[0],[0],[0]])\n",
    "\n",
    "R_x1 = 1/delta*np.eye((len(w)))\n",
    "\n",
    "for i in range(1,N-1):\n",
    "    x_bar = np.matrix([[x[i+1]],[x[i]],[x[i-1]]])\n",
    "    g = R_x1*x_bar/(gamma**2+x_bar.T*R_x1*x_bar)\n",
    "    R_x1 = gamma**(-2)*(R_x1-g*x_bar.T*R_x1)\n",
    "    r_yx = gamma**2*r_yx+x_bar*y[i+1]\n",
    "    w = R_x1*r_yx\n",
    "print(w)"
   ]
  }
 ],
 "metadata": {
  "kernelspec": {
   "display_name": "Python 3",
   "language": "python",
   "name": "python3"
  },
  "language_info": {
   "codemirror_mode": {
    "name": "ipython",
    "version": 3
   },
   "file_extension": ".py",
   "mimetype": "text/x-python",
   "name": "python",
   "nbconvert_exporter": "python",
   "pygments_lexer": "ipython3",
   "version": "3.7.7"
  }
 },
 "nbformat": 4,
 "nbformat_minor": 5
}
