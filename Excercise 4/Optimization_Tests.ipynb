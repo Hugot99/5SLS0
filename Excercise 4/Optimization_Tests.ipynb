{
 "cells": [
  {
   "cell_type": "code",
   "execution_count": 6,
   "id": "54b38947",
   "metadata": {},
   "outputs": [
    {
     "name": "stdout",
     "output_type": "stream",
     "text": [
      "yes\n"
     ]
    }
   ],
   "source": [
    "from optimization_template import *\n",
    "\n",
    "\n",
    "depth = 2\n",
    "\n",
    "theta_init = {**{\"w{}\".format(i+1): np.random.randn(2, 2) for i in range(depth-1)},\n",
    "              \"w{}\".format(depth): np.random.randn(1, 2),\n",
    "              **{\"b{}\".format(i+1): np.random.randn(2, 1) for i in range(depth-1)},\n",
    "              \"b{}\".format(depth): np.random.randn(1, 1)}\n",
    "\n",
    "theta = {'w1': np.array([[-0.65497431, -1.64259778],\n",
    "                         [0.49698371,  1.53797914]]),\n",
    "         'w2': np.array([[1.85627443, -0.50453944]]),\n",
    "         'b1': np.array([[0.20787364],\n",
    "                         [-0.63470021]]),\n",
    "         'b2': np.array([[-1.82343559]])}\n",
    "\n",
    "# create optimizer class\n",
    "opt = optimizer(theta_init, depth)\n",
    "\n",
    "# specify optimizer\n",
    "opt.specify_optimizer(\"Adam\", parameters={\"lr\": 0.0001, \"delta\": 1e-12, \"rho1\": 0.9, \"rho2\": 0.999})\n",
    "opt.count = 1\n",
    "if hasattr(opt, 'count'):\n",
    "    opt.count = 1\n",
    "    print(\"yes\")\n",
    "else:\n",
    "    opt.count = opt.count + 1\n"
   ]
  },
  {
   "cell_type": "code",
   "execution_count": null,
   "id": "fb3803ba",
   "metadata": {},
   "outputs": [],
   "source": []
  }
 ],
 "metadata": {
  "kernelspec": {
   "display_name": "Python 3",
   "language": "python",
   "name": "python3"
  },
  "language_info": {
   "codemirror_mode": {
    "name": "ipython",
    "version": 3
   },
   "file_extension": ".py",
   "mimetype": "text/x-python",
   "name": "python",
   "nbconvert_exporter": "python",
   "pygments_lexer": "ipython3",
   "version": "3.7.7"
  }
 },
 "nbformat": 4,
 "nbformat_minor": 5
}
