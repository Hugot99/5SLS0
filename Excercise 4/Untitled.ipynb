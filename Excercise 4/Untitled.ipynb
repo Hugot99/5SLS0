{
 "cells": [
  {
   "cell_type": "code",
   "execution_count": 4,
   "id": "d110ff30",
   "metadata": {},
   "outputs": [
    {
     "name": "stdout",
     "output_type": "stream",
     "text": [
      "[[4 3]\n",
      " [2 3]]\n"
     ]
    }
   ],
   "source": [
    "from backprop_template import *\n",
    "\n",
    "# def Dense(h, w, b):\n",
    "#     \"\"\"\n",
    "#     This function returns the output of a Dense layer with bias.\n",
    "\n",
    "#     Input:  h - Input of the Dense layer formatted as a Numpy array containing\n",
    "#                 only real values with shape (M x N)\n",
    "#             w - Linear weights of the Dense layer formatted as a Numpy array\n",
    "#                 containing only real values with shape (K x M)\n",
    "#             b - Bias weights of the Dense layer formatted as a Numpy array\n",
    "#                 containing only real values with shape (...)\n",
    "#     Output: a - Output of the Dense layer formatted as a Numpy array containing\n",
    "#                 only real values with 2D shape (...)\n",
    "#     \"\"\"\n",
    "#     # calculate a\n",
    "#     a = w @ h\n",
    "#     eyeb = b * np.eye(a.shape[0],a.shape[1])\n",
    "#     a = a +eyeb\n",
    "#     return a\n",
    "# h = np.matrix([[1,1],[1,1]])\n",
    "Dense(np.matrix([[1,2],[1,1],[1,0]]),np.matrix([[1,1,2],[1,1,0]]),5)\n",
    "\n",
    "h = np.matrix([[1,2],[1,1],[1,0]])\n",
    "w = np.matrix([[1,1,2],[1,1,0]])\n",
    "b =1\n",
    "a = w@h\n",
    "print(a)"
   ]
  }
 ],
 "metadata": {
  "kernelspec": {
   "display_name": "Python 3",
   "language": "python",
   "name": "python3"
  },
  "language_info": {
   "codemirror_mode": {
    "name": "ipython",
    "version": 3
   },
   "file_extension": ".py",
   "mimetype": "text/x-python",
   "name": "python",
   "nbconvert_exporter": "python",
   "pygments_lexer": "ipython3",
   "version": "3.7.7"
  }
 },
 "nbformat": 4,
 "nbformat_minor": 5
}
